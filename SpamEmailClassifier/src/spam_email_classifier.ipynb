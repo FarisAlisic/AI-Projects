{
  "cells": [
    {
      "cell_type": "code",
      "execution_count": 1,
      "metadata": {
        "id": "N0cfbljSj9tY"
      },
      "outputs": [],
      "source": [
        "import pandas as pd\n",
        "import numpy as np\n",
        "from sklearn.model_selection import train_test_split\n",
        "from sklearn.feature_extraction.text import TfidfVectorizer\n",
        "\n",
        "# Clean text data\n",
        "\n",
        "df = pd.read_csv('/content/spam_ham_dataset.csv')\n",
        "df['clean_text'] = df['text'].str.lower()\n",
        "df['clean_text'] = df['clean_text'].str.replace(r'[^\\w\\s]+', '')\n",
        "df['clean_text'] = df['clean_text'].str.replace(r'\\s+', ' ')\n",
        "vectorizer = TfidfVectorizer(max_features=5000)\n",
        "X = vectorizer.fit_transform(df['clean_text']).toarray()\n",
        "y = df['label_num'].values\n",
        "X_train, X_test, y_train, y_test = train_test_split(\n",
        "    X, y, test_size=0.2, random_state=42\n",
        ")"
      ]
    },
    {
      "cell_type": "code",
      "execution_count": 2,
      "metadata": {
        "id": "jdCrevgQlmQx"
      },
      "outputs": [],
      "source": [
        "import numpy as np\n",
        "\n",
        "class Layer_Dense:\n",
        "    def __init__(self, n_inputs, n_neurons):\n",
        "        self.weights = 0.01 * np.random.randn(n_inputs, n_neurons)\n",
        "        self.biases = np.zeros((1, n_neurons))\n",
        "\n",
        "    def forward(self, inputs):\n",
        "        self.inputs = inputs\n",
        "        self.output = np.dot(inputs, self.weights) + self.biases\n",
        "\n",
        "    def backward(self, dvalues):\n",
        "        self.dweights = np.dot(self.inputs.T, dvalues)\n",
        "        self.dbiases = np.sum(dvalues, axis=0, keepdims=True)\n",
        "        self.dinputs = np.dot(dvalues, self.weights.T)\n",
        "\n",
        "class Activation_ReLU:\n",
        "    def forward(self, inputs):\n",
        "        self.inputs = inputs\n",
        "        self.output = np.maximum(0, inputs)\n",
        "\n",
        "    def backward(self, dvalues):\n",
        "        self.dinputs = dvalues.copy()\n",
        "        self.dinputs[self.inputs <= 0] = 0\n",
        "\n",
        "class Activation_Softmax:\n",
        "    def forward(self, inputs):\n",
        "        self.inputs = inputs\n",
        "        exp_values = np.exp(inputs - np.max(inputs, axis=1, keepdims=True))\n",
        "        probabilities = exp_values / np.sum(exp_values, axis=1, keepdims=True)\n",
        "        self.output = probabilities\n",
        "\n",
        "    def backward(self, dvalues):\n",
        "        self.dinputs = np.empty_like(dvalues)\n",
        "        for index, (single_output, single_dvalues) in enumerate(zip(self.output, dvalues)):\n",
        "            single_output = single_output.reshape(-1, 1)\n",
        "            jacobian_matrix = np.diagflat(single_output) - np.dot(single_output, single_output.T)\n",
        "            self.dinputs[index] = np.dot(jacobian_matrix, single_dvalues)\n",
        "\n",
        "class Loss:\n",
        "    def calculate(self, output, y):\n",
        "        sample_losses = self.forward(output, y)\n",
        "        data_loss = np.mean(sample_losses)\n",
        "        return data_loss\n",
        "\n",
        "class Loss_CategoricalCrossentropy(Loss):\n",
        "    def forward(self, y_pred, y_true):\n",
        "        samples = len(y_pred)\n",
        "        y_pred_clipped = np.clip(y_pred, 1e-7, 1 - 1e-7)\n",
        "\n",
        "        if len(y_true.shape) == 1:\n",
        "            correct_confidences = y_pred_clipped[range(samples), y_true]\n",
        "        elif len(y_true.shape) == 2:\n",
        "            correct_confidences = np.sum(y_pred_clipped * y_true, axis=1)\n",
        "\n",
        "        negative_log_likelihoods = -np.log(correct_confidences)\n",
        "        return negative_log_likelihoods\n",
        "\n",
        "    def backward(self, dvalues, y_true):\n",
        "        samples = len(dvalues)\n",
        "        labels = len(dvalues[0])\n",
        "\n",
        "        if len(y_true.shape) == 1:\n",
        "            y_true = np.eye(labels)[y_true]\n",
        "\n",
        "        self.dinputs = -y_true / dvalues\n",
        "        self.dinputs = self.dinputs / samples\n",
        "\n",
        "class Activation_Softmax_Loss_CategoricalCrossentropy():\n",
        "    def __init__(self):\n",
        "        self.activation = Activation_Softmax()\n",
        "        self.loss = Loss_CategoricalCrossentropy()\n",
        "\n",
        "    def forward(self, inputs, y_true):\n",
        "        self.activation.forward(inputs)\n",
        "        self.output = self.activation.output\n",
        "        return self.loss.calculate(self.output, y_true)\n",
        "\n",
        "    def backward(self, dvalues, y_true):\n",
        "        samples = len(dvalues)\n",
        "        if len(y_true.shape) == 2:\n",
        "            y_true = np.argmax(y_true, axis=1)\n",
        "\n",
        "        self.dinputs = dvalues.copy()\n",
        "        self.dinputs[range(samples), y_true] -= 1\n",
        "        self.dinputs = self.dinputs / samples"
      ]
    },
    {
      "cell_type": "code",
      "execution_count": 3,
      "metadata": {
        "id": "isHAcvxwnIaq"
      },
      "outputs": [],
      "source": [
        "# Input layer → Hidden layer (ReLU) → Output layer (Softmax)\n",
        "dense1 = Layer_Dense(n_inputs=5000, n_neurons=64)\n",
        "activation1 = Activation_ReLU()\n",
        "\n",
        "dense2 = Layer_Dense(n_inputs=64, n_neurons=5)\n",
        "loss_activation = Activation_Softmax_Loss_CategoricalCrossentropy()"
      ]
    },
    {
      "cell_type": "code",
      "execution_count": 4,
      "metadata": {
        "colab": {
          "base_uri": "https://localhost:8080/"
        },
        "id": "rC_t3VbtnMgL",
        "outputId": "73d51ccf-8c6f-4962-c200-68cdbaa05d7b"
      },
      "outputs": [
        {
          "output_type": "stream",
          "name": "stdout",
          "text": [
            "Epoch 0: Loss=1.6092, Accuracy=0.2855\n",
            "Epoch 100: Loss=0.7277, Accuracy=0.7084\n",
            "Epoch 200: Loss=0.6503, Accuracy=0.7084\n",
            "Epoch 300: Loss=0.6197, Accuracy=0.7084\n",
            "Epoch 400: Loss=0.5917, Accuracy=0.7084\n",
            "Epoch 500: Loss=0.5374, Accuracy=0.7084\n",
            "Epoch 600: Loss=0.4356, Accuracy=0.7244\n",
            "Epoch 700: Loss=0.3215, Accuracy=0.9139\n",
            "Epoch 800: Loss=0.2392, Accuracy=0.9628\n",
            "Epoch 900: Loss=0.1868, Accuracy=0.9700\n",
            "Epoch 999: Loss=0.1524, Accuracy=0.9768\n"
          ]
        }
      ],
      "source": [
        "# Training parameters\n",
        "epochs = 1000\n",
        "learning_rate = 0.1\n",
        "\n",
        "for epoch in range(epochs):\n",
        "    # Forward pass\n",
        "    dense1.forward(X_train)\n",
        "    activation1.forward(dense1.output)\n",
        "\n",
        "    dense2.forward(activation1.output)\n",
        "    loss = loss_activation.forward(dense2.output, y_train)\n",
        "\n",
        "    # Calculate accuracy\n",
        "    predictions = np.argmax(loss_activation.output, axis=1)\n",
        "    if len(y_train.shape) == 2:\n",
        "        y_train_labels = np.argmax(y_train, axis=1)\n",
        "    else:\n",
        "        y_train_labels = y_train\n",
        "    accuracy = np.mean(predictions == y_train_labels)\n",
        "\n",
        "    # Backward pass\n",
        "    loss_activation.backward(loss_activation.output, y_train)\n",
        "    dense2.backward(loss_activation.dinputs)\n",
        "    activation1.backward(dense2.dinputs)\n",
        "    dense1.backward(activation1.dinputs)\n",
        "\n",
        "    # Update weights and biases\n",
        "    dense1.weights -= learning_rate * dense1.dweights\n",
        "    dense1.biases -= learning_rate * dense1.dbiases\n",
        "    dense2.weights -= learning_rate * dense2.dweights\n",
        "    dense2.biases -= learning_rate * dense2.dbiases\n",
        "\n",
        "    # Print loss and accuracy\n",
        "    if epoch % 100 == 0 or epoch == epochs - 1:\n",
        "        print(f\"Epoch {epoch}: Loss={loss:.4f}, Accuracy={accuracy:.4f}\")"
      ]
    },
    {
      "cell_type": "code",
      "execution_count": 5,
      "metadata": {
        "colab": {
          "base_uri": "https://localhost:8080/"
        },
        "id": "R-EC6wZvnNYK",
        "outputId": "e0e9a030-b913-4bc0-cb0f-d0e70fc2ad4c"
      },
      "outputs": [
        {
          "output_type": "stream",
          "name": "stdout",
          "text": [
            "\n",
            "Test Accuracy: 0.9710\n"
          ]
        }
      ],
      "source": [
        "# Forward pass on test set\n",
        "dense1.forward(X_test)\n",
        "activation1.forward(dense1.output)\n",
        "dense2.forward(activation1.output)\n",
        "loss = loss_activation.forward(dense2.output, y_test)\n",
        "\n",
        "# Calculate test accuracy\n",
        "test_predictions = np.argmax(loss_activation.output, axis=1)\n",
        "test_accuracy = np.mean(test_predictions == y_test)\n",
        "print(f\"\\nTest Accuracy: {test_accuracy:.4f}\")"
      ]
    },
    {
      "cell_type": "code",
      "execution_count": 6,
      "metadata": {
        "colab": {
          "base_uri": "https://localhost:8080/"
        },
        "id": "PW6i6GgbnQUa",
        "outputId": "265e7a05-f1c2-4246-ffe6-3bc81ccc3e95"
      },
      "outputs": [
        {
          "output_type": "stream",
          "name": "stdout",
          "text": [
            "Prediction: not spam (Probability of spam: 0.19)\n",
            "\n",
            "Prediction: not spam (Probability of spam: 0.13)\n",
            "\n",
            "Prediction: spam (Probability of spam: 0.87)\n",
            "\n",
            "Prediction: spam (Probability of spam: 0.91)\n",
            "\n",
            "Prediction: spam (Probability of spam: 0.74)\n",
            "\n"
          ]
        }
      ],
      "source": [
        "import pandas as pd\n",
        "import numpy as np\n",
        "\n",
        "def predict_spam_from_file(file_path):\n",
        "    # Read the email text from the file clean the text, vectorize it and make a prediction\n",
        "\n",
        "    with open(file_path, 'r', encoding='utf-8') as f:\n",
        "        email_text = f.read()\n",
        "    s = pd.Series([email_text])\n",
        "\n",
        "    clean_text = (\n",
        "        s.str.lower()\n",
        "         .str.replace(r'[^\\w\\s]+', '', regex=True)\n",
        "         .str.replace(r'\\s+', ' ', regex=True)\n",
        "         .str.strip()\n",
        "         .iloc[0]\n",
        "    )\n",
        "\n",
        "    X_new = vectorizer.transform([clean_text]).toarray()\n",
        "\n",
        "    dense1.forward(X_new)\n",
        "    activation1.forward(dense1.output)\n",
        "    dense2.forward(activation1.output)\n",
        "    loss_activation.forward(dense2.output, np.array([0]))\n",
        "\n",
        "    prob_spam = loss_activation.output[0][1]\n",
        "    return \"spam\" if prob_spam > 0.5 else \"not spam\", prob_spam\n",
        "\n",
        "# Example usage:\n",
        "file_path = \"/content/email_ham1_real.txt\"\n",
        "prediction, confidence = predict_spam_from_file(file_path)\n",
        "print(f\"Prediction: {prediction} (Probability of spam: {confidence:.2f})\\n\")\n",
        "file_path = \"/content/email_ham2_real.txt\"\n",
        "prediction, confidence = predict_spam_from_file(file_path)\n",
        "print(f\"Prediction: {prediction} (Probability of spam: {confidence:.2f})\\n\")\n",
        "file_path = \"/content/email_spam1_real.txt\"\n",
        "prediction, confidence = predict_spam_from_file(file_path)\n",
        "print(f\"Prediction: {prediction} (Probability of spam: {confidence:.2f})\\n\")\n",
        "file_path = \"/content/email_spam2_real.txt\"\n",
        "prediction, confidence = predict_spam_from_file(file_path)\n",
        "print(f\"Prediction: {prediction} (Probability of spam: {confidence:.2f})\\n\")\n",
        "file_path = \"/content/email_spam3.txt\"\n",
        "prediction, confidence = predict_spam_from_file(file_path)\n",
        "print(f\"Prediction: {prediction} (Probability of spam: {confidence:.2f})\\n\")"
      ]
    }
  ],
  "metadata": {
    "colab": {
      "provenance": []
    },
    "kernelspec": {
      "display_name": "Python 3",
      "name": "python3"
    },
    "language_info": {
      "name": "python"
    }
  },
  "nbformat": 4,
  "nbformat_minor": 0
}